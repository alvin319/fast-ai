{
 "cells": [
  {
   "cell_type": "markdown",
   "metadata": {
    "toc": "true"
   },
   "source": [
    "# Gradient Descent Intro\n",
    " <p>"
   ]
  },
  {
   "cell_type": "code",
   "execution_count": 2,
   "metadata": {
    "collapsed": true
   },
   "outputs": [],
   "source": [
    "%matplotlib inline\n",
    "import math,sys,os,numpy as np\n",
    "from numpy.random import random\n",
    "from matplotlib import pyplot as plt, rcParams, animation, rc\n",
    "from __future__ import print_function, division\n",
    "from ipywidgets import interact, interactive, fixed\n",
    "from ipywidgets.widgets import *\n",
    "rc('animation', html='html5')\n",
    "rcParams['figure.figsize'] = 3, 3\n",
    "%precision 4\n",
    "np.set_printoptions(precision=4, linewidth=100)"
   ]
  },
  {
   "cell_type": "code",
   "execution_count": 1,
   "metadata": {
    "collapsed": true
   },
   "outputs": [],
   "source": [
    "def lin(a,b,x): return a*x+b"
   ]
  },
  {
   "cell_type": "code",
   "execution_count": 3,
   "metadata": {
    "collapsed": true
   },
   "outputs": [],
   "source": [
    "a=3.\n",
    "b=8."
   ]
  },
  {
   "cell_type": "code",
   "execution_count": 21,
   "metadata": {
    "collapsed": true
   },
   "outputs": [],
   "source": [
    "n=30\n",
    "x = random(n)\n",
    "y = lin(a,b,x)"
   ]
  },
  {
   "cell_type": "code",
   "execution_count": 17,
   "metadata": {},
   "outputs": [
    {
     "data": {
      "text/plain": [
       "array([ 0.0132,  0.4765,  0.0034,  0.8314,  0.5044,  0.0817,  0.7193,  0.8595,  0.7664,  0.0203,\n",
       "        0.4296,  0.5188,  0.2627,  0.4388,  0.3663,  0.0792,  0.5146,  0.9705,  0.4546,  0.0884,\n",
       "        0.9854,  0.3523,  0.5519,  0.1516,  0.1063,  0.0296,  0.9777,  0.3856,  0.5225,  0.2138])"
      ]
     },
     "execution_count": 17,
     "metadata": {},
     "output_type": "execute_result"
    }
   ],
   "source": [
    "x"
   ]
  },
  {
   "cell_type": "code",
   "execution_count": 18,
   "metadata": {},
   "outputs": [
    {
     "data": {
      "text/plain": [
       "array([  8.0395,   9.4294,   8.0103,  10.4941,   9.5131,   8.245 ,  10.1578,  10.5785,  10.2991,\n",
       "         8.061 ,   9.2889,   9.5564,   8.7882,   9.3164,   9.099 ,   8.2375,   9.5439,  10.9116,\n",
       "         9.3637,   8.2653,  10.9562,   9.0568,   9.6556,   8.4548,   8.3188,   8.0888,  10.9331,\n",
       "         9.1568,   9.5675,   8.6414])"
      ]
     },
     "execution_count": 18,
     "metadata": {},
     "output_type": "execute_result"
    }
   ],
   "source": [
    "y"
   ]
  },
  {
   "cell_type": "code",
   "execution_count": 19,
   "metadata": {},
   "outputs": [
    {
     "data": {
      "text/plain": [
       "<matplotlib.collections.PathCollection at 0x7ff89aca03c8>"
      ]
     },
     "execution_count": 19,
     "metadata": {},
     "output_type": "execute_result"
    },
    {
     "data": {
      "image/png": "[encoded data removed]",
      "text/plain": [
       "<matplotlib.figure.Figure at 0x7ff89aed5128>"
      ]
     },
     "metadata": {},
     "output_type": "display_data"
    }
   ],
   "source": [
    "plt.scatter(x,y)"
   ]
  },
  {
   "cell_type": "code",
   "execution_count": 22,
   "metadata": {
    "collapsed": true
   },
   "outputs": [],
   "source": [
    "def sse(y,y_pred): return ((y-y_pred)**2).sum()\n",
    "def loss(y,a,b,x): return sse(y, lin(a,b,x))\n",
    "def avg_loss(y,a,b,x): return np.sqrt(loss(y,a,b,x)/n)"
   ]
  },
  {
   "cell_type": "code",
   "execution_count": 23,
   "metadata": {},
   "outputs": [
    {
     "data": {
      "text/plain": [
       "8.9867"
      ]
     },
     "execution_count": 23,
     "metadata": {},
     "output_type": "execute_result"
    }
   ],
   "source": [
    "a_guess=-1.\n",
    "b_guess=1.\n",
    "avg_loss(y, a_guess, b_guess, x)"
   ]
  },
  {
   "cell_type": "code",
   "execution_count": 24,
   "metadata": {
    "collapsed": true
   },
   "outputs": [],
   "source": [
    "lr=0.01\n",
    "# d[(y-(a*x+b))**2,b] = 2 (b + a x - y)      = 2 (y_pred - y)\n",
    "# d[(y-(a*x+b))**2,a] = 2 x (b + a x - y)    = x * dy/db"
   ]
  },
  {
   "cell_type": "code",
   "execution_count": 14,
   "metadata": {
    "collapsed": true
   },
   "outputs": [],
   "source": [
    "def upd():\n",
    "    global a_guess, b_guess\n",
    "    \n",
    "    # make a prediction using the current weights\n",
    "    y_pred = lin(a_guess, b_guess, x)\n",
    "    \n",
    "    # calculate the derivate of the loss\n",
    "    dydb = 2 * (y_pred - y)\n",
    "    dyda = x*dydb\n",
    "    \n",
    "    # update our weights by moving in direction of steepest descent\n",
    "    a_guess -= lr*dyda.mean()\n",
    "    b_guess -= lr*dydb.mean()"
   ]
  },
  {
   "cell_type": "code",
   "execution_count": 15,
   "metadata": {},
   "outputs": [
    {
     "data": {
      "text/html": [
       "<video width=\"500\" height=\"400\" controls autoplay loop>\n",
       "  <source type=\"video/mp4\" src=\"data:video/mp4;base64,AAAAHGZ0eXBNNFYgAAACAGlzb21pc28yYXZjMQAAAAhmcmVlAABL021kYXQAAAKvBgX//6vcRem9\n",
       "5tlIt5Ys2CDZI+7veDI2NCAtIGNvcmUgMTQ4IHIyNjQzIDVjNjU3MDQgLSBILjI2NC9NUEVHLTQg\n",
       "QVZDIGNvZGVjIC0gQ29weWxlZnQgMjAwMy0yMDE1IC0gaHR0cDovL3d3dy52aWRlb2xhbi5vcmcv\n",
       "eDI2NC5odG1sIC0gb3B0aW9uczogY2FiYWM9MSByZWY9MyBkZWJsb2NrPTE6MDowIGFuYWx5c2U9\n",
       "MHgzOjB4MTEzIG1lPWhleCBzdWJtZT03IHBzeT0xIHBzeV9yZD0xLjAwOjAuMDAgbWl4ZWRfcmVm\n",
       "PTEgbWVfcmFuZ2U9MTYgY2hyb21hX21lPTEgdHJlbGxpcz0xIDh4OGRjdD0xIGNxbT0wIGRlYWR6\n",
       "b25lPTIxLDExIGZhc3RfcHNraXA9MSBjaHJvbWFfcXBfb2Zmc2V0PS0yIHRocmVhZHM9MTIgbG9v\n",
       "a2FoZWFkX3RocmVhZHM9MiBzbGljZWRfdGhyZWFkcz0wIG5yPTAgZGVjaW1hdGU9MSBpbnRlcmxh\n",
       "Y2VkPTAgYmx1cmF5X2NvbXBhdD0wIGNvbnN0cmFpbmVkX2ludHJhPTAgYmZyYW1lcz0zIGJfcHly\n",
       "YW1pZD0yIGJfYWRhcHQ9MSBiX2JpYXM9MCBkaXJlY3Q9MSB3ZWlnaHRiPTEgb3Blbl9nb3A9MCB3\n",
       "ZWlnaHRwPTIga2V5aW50PTI1MCBrZXlpbnRfbWluPTEwIHNjZW5lY3V0PTQwIGludHJhX3JlZnJl\n",
       "c2g9MCByY19sb29rYWhlYWQ9NDAgcmM9Y3JmIG1idHJlZT0xIGNyZj0yMy4wIHFjb21wPTAuNjAg\n",
       "cXBtaW49MCBxcG1heD02OSBxcHN0ZXA9NCBpcF9yYXRpbz0xLjQwIGFxPTE6MS4wMACAAAARjWWI\n",
       "hAA///73aJ8Cm1pDeoDklcUl20+B/6tncHyP6QMAAAMAAAMAJAL8x7+hB0M0IAAAUInP4LJXTYoc\n",
       "bHIZd2VwwVWvtEd9R871uVoQbgcRuxqSx6Hy1WCn3n/M71wtHVtY0ZqAzjTsfJOXHzSx7I1tP9NC\n",
       "4Zi1DlsVu+WkkOoKV4/YAB/IN+lZv42ybTreO5bl6asYwkl6Pbz4io20WfgVV13CFyKRQWV7tvfy\n",
       "Vv80XBLxlSvH18cmox20unczme9PRprC6tDVFY7N6rK4bYr9GKRZl1i9UlcLetIeAk6J/eGYfZar\n",
       "wQGgodo2CekBEiByxNDV4PvBZpE9mxkhOQhepyZ+lbLyOalFBrb3/LIB+Eq1N85xdWZAGsXVgJnn\n",
       "/78sew7iIScizWHkjnSJuHmEkKEj6n16tWE+uQg3u/Du5wZAn0q513nc6FjXG23PbiJ5sEUVUuZ2\n",
       "y1gmG3pTmHdzomBewtsSrX0mCG4/72WBtfj+bvLLAACLn/4922I2hn6ay+ryh98v4Dn2CVLuNLXa\n",
       "KHUmD8LhTFDVBLc0pyBqETvaKQpylLhbDK4eVJwmq80ZZJiVTRQecteDVSGethQHM++/pLzPxPWC\n",
       "YMEODYgv2fnnwfqp3hYNcICmpFnxsEFMBNJzYTZsxRHwrT1u0Tiv9OtXigcbzV6OcxjfGeNjxa1t\n",
       "x/KSQCsqpSyfVSxLsaf7VxGjxhy2Kg8WsanOD8Dd4FAaUaygZSZKz6S8+46YQTYTrPwWR4/o8Znn\n",
       "prxDVWnsOf7AKDBCUyNkN2mO3vq3xZG/iALX5GJ80DVvogIzaLebCz63zrSZgKdvJ3LowVJWnopb\n",
       "JpRC13C6ZExL8BFfglB0HR6hHmjm2q8tRSPLTb//bSKcz65yRomes7/EkOZySzDmGIqfjx8qi0EO\n",
       "zoQKMEpe0DeHwLHxZCTJkiuua7yK37IcJUvOGutHZN8pw+8Hei2PCRTsE1QL6r29JJY61Ws/CLWm\n",
       "0Hb4dkZQ53eCdwfQtlR8vFPf0gBDBL/34FusNkDtLj+TjyEzG+HGwfmt8Fix17/9iPwwKxldMsaI\n",
       "Ys0opeB9BbaPWBu63S0nr+mi8I1bd+5NSJ6/yBNZ+bn6ROAnsO+mx4lT0F/ozAsowskAPYOG5H3P\n",
       "jQ+E07dGR4EbBMUiSrrMMUoLtQkV9qNLDrAV2Am12Rd2xqs8XfJ4RQ2Od68+Y0iKOswf5PhnY7Yl\n",
       "OEU+k+oyPZBKUrZex8sdlQUbEUJc9rDs/8AEWvd6L/1uArNGfE8rhUzvvtuMx3TJ4O181LNhWqlM\n",
       "pGoo9JTFTHme9fGZm5rGhkozSV26NHBvbr9LmKlly+hU/bw8TUSWVWoV4bNfbhGKfatJMrM5zIfh\n",
       "/Y5JRo+mTrPQQiUuYVnZLGGo600nn1q0Uxh6JshyvhDMwEqqKOiNxPjyEKPey2TFh3bZ8eeii/wk\n",
       "09AvCFLuDcrxW6cjHZA3k4n1ESnB/V1tBt3grxhFGRoBTl+Xi5WilOeNzQwAw3/9s/DMXoOA3CRP\n",
       "Vxhc5n2KsSv/ZwG1E7k/LHsCT8PZUdQbLgip7LT2L/qbqAfZxqowXcGLeqW/vDl1aXB0AwdvXQL2\n",
       "2o4pwiWhBHuV0CIUajX9m79G5B/1YFzl00HBI4Qru8AZBrTV9+bkbmWY2mDmjoOBTZqebjQlMbMJ\n",
       "nwR3z0dbqw4hJvQGszeN62nJHoQkb5erb9W0m+YOlj/2fNX0+5vKuAsqdT0F1BgZWbOj+mgj9qIz\n",
       "Adam7juW61Une/Q+PQ1OyoA3/JGHdIqlpwSDvaQRsrwtPe4zzfiPikhX5BbcfM9hIWAs/N9mbW9Z\n",
       "R4zrYXBJkGIJngsFkYmW/ZLnDuP6xS6ZsfdypAN3Jd80VWaO9srEjyA9KX/D2ca5BMleqO0vRfyn\n",
       "wcYqA7WpDfzL9yx6Eh8BBvE9cj/WEWf0sk1BXAVxcdsENHLjNm4yisDIahCYtWdM5cAMw+lsLjUd\n",
       "dwu+g9FNa7FUvbzEEeQION89Uvb28o78isGfCDs8KyvPEq8WA/usMVkCHE179wKMZk6Ihicw/wjR\n",
       "rBqXcI5Juf59bw5jpEXLhbElzSSFYPp+s+y5YLbw+CucX5l4SZWl+99jQ37IcaaXc2a9UfbI+bXc\n",
       "j/zEyfvAIWCzaApWRjCo8Tv0siqmA+390e5EJJOzUQudaebDfNkqQKJGqZfTLEr3FOrAKURmtSIG\n",
       "/Na00eYdEluLeATMNcp2NPBULxJR3V0Tj3EG0Kfv4zKKBnUwjcKlcILCaAbT7RQ4a4uuBZFmX3zN\n",
       "PpdPoJOCk/6LoMKeWBd2K2tp0aKCcLxGg9oBsZHSAmU4BrBKt2Eo6zpvh8rKoztyxaUeQkbVIDAt\n",
       "zcUH6TzagFhywqfY8CdNZ5lHPYBCPH3OLBeZihPqFBwp0upaLbevD69bCtndkISPqIVzQmA4TnRg\n",
       "83tPkfx6Hp5dShg5WTZko11LQm34f0vxenXgMVaGnXkSxL3VcU/xQzn+now/uZA5lEDr59Fzb+KV\n",
       "l5m42nYa/yplPrZktWxOOOPSH3utock6be477hR0oZw+34y9tXDD3hOx9t7Vtl4KkdNcHYwvE40R\n",
       "eVYxIRrd6vvZU24LukSPNYFWx6r/EPG+K6gVj7qz+o0M8LkdJK+eLsZBQRVZlPplBFb3NenkA9Vj\n",
       "a4mSX84TbnqtHAnM3wPaFWj9fHPsxC/3aj+VQjGFcpIZNDUQDoSrn9mXUPAyfQN4qA30m+kT7412\n",
       "5ZU7+uaL3aULkz+ZsxWS2kHz2ZY+3CYSIr4Jp5XG0vhbVhLaFx6be1G/qLu4Gvc1Lw2ogm+3kMM1\n",
       "Hzva7U9HXmLmukLjj65dOoeq/9fnE26yM4tsaFzLxmwXkAaCc1c4FJneK0yICYLhosNAMGZVSNJz\n",
       "Ozg27U9fQ9LF/Pb8p6HC+4wyx/Zp18HoqvojXjzy1zK17CyqmBizHHo6uIlfz25pjeItl1esg5mA\n",
       "DTSRjMrSOcDUXO3xqKp2YFhktZa54aWeez+X1exbmqYcbhjFb3jenKFK4HhRMzc1kkH2pzX/gKsw\n",
       "5Lrae+lHgW2ugAAFe7bEB/2VtUtU2DlxODSodvE42ZbLQcSJeCkjuSBZdqDOKvZ1Yzx76DdmciO+\n",
       "gJRmSTEKxqWHSkbgTUp4Smu29xeSU79o12ZFTXp/wQlBrUeq0MIuv30jn6m7BNmdVq48/ykr8ySD\n",
       "IS5e5Wae5TtK/ih9tFqdyd+y3xyiipLjzeGpAH/01Fs898pCC1wdSupAuKhJcHj3Z9qiTh9DGo0d\n",
       "0sihery2dNVXkk/d6yNrED63i9IS1uo7a2WgEiGMhnGuQdHwq4lTmKg52vERai/U6z2Pof7O5HZC\n",
       "h+dWiO4pmRW0rzCOiJw6sJWBw0LEt6z7sJ8OLW9OKnHZlQqq5RnYlRxUUA0wAABQvkhExRLbaBzA\n",
       "hh6rDvSYj0BCqNmtk43wtVt1ceN7LwYI0ZJEolQenEiqzbLDYYXPxqjv2Gip/n4jRdJ1sjjhOEDv\n",
       "VgPg8VZv1i09IBpcerG0EQ6GJ9TVpPrGIKGcO9LO4mR26ObOakuzACKtDXnO1NYmv4DLLUIDrPqC\n",
       "xwnViLRCNxN1pkfv3qb0bbHxvu7s5UpYEq4LRFFMRfDqLPFOwxKegDVUQ8mvusHZK+GKnLJH9bMe\n",
       "sbUS9zU3Jclp40fuLnIVN4Vto+kzlrJQnEbBTEQpPClQNPlNtMwAh/XP5ztTXdKGQZ7aOVqADyQ6\n",
       "1JxJNOYWbAAf9esqFoqQbbd1rmEj+QieaU+m+d0LfMzMuJtbFqufdpgTumHum6REAHapKTdMbKRi\n",
       "zNbzyq+LlLcvWBu1frFwmr19sQtYMP9iPOP5XIaQzUbpZfNyiNIG1ALZj6/v5/D72zHWI+s1Lx0E\n",
       "kWx3tSa29FEgeupxol5CUStn+KfF3phOpL34Sy6g2U4KRdV5QxiwroibrHg9yXh+EKgu/7yNXJlV\n",
       "RwSdDTRlqWccSwKsluvysAG0pA15NIqYylqWWAjx3yO2RrO5//138icQGyMJZMD8Qn+FhRobke/y\n",
       "cyoTrf3OLXHXBwRI7vAcWtTr1UefdHWfCwoF8HRB9+CGrqw/OjHMNGqvyBKguzaC9FrfRw/776r4\n",
       "Hu0sAyeD9pBYFDLciO9rlat5vdYwPIz09FK7PkYzbdmgMBk01tZ76nici8v8wgY3zKMPy6Daxdz/\n",
       "uGhyF6mk8mrYDvf8tgGQdlHcI158hODN64g9hX1jTqqGARw/6daiWAx5Idy/r92ANVD9jZCkAPZh\n",
       "OubturXPiy5dScrP6uTYhFHltUfE92xMS7gb6pbIk2ioAv4NSDnT1OWPd+Oiy/wR1tDHjEMCSVbQ\n",
       "hv+QFQihpC+IEICkTEyU1wUJIMWWUcS5DCfv0vansEAobSyLMFK/EXAIA6FifpUokEb7GvRrF9U1\n",
       "Wlra2RGxFi6FBHtXOapl88FgsKCymHvzDB62Jrh3hWsIWy8o25s5aBOx68f2TUhK6xboN8bJZ7fO\n",
       "PNDJpAbiHhvttRntABi385+5gvOJaP2XktJ0MZFMWr4pujY4XOtdDe4xZupliQw7DGpQQun0Yegv\n",
       "6QS0DMZ6rp1vv/5XrA76ASc2eB569iyCRmXnOhSMyfhsZv7A/GrM4OeCmaHvwPs5r6ADCNt0y9fj\n",
       "5MOdciKJeC3o+qD+7XM7+dz9NkTXMHifzGDiKVXMe5giq0jqdJOxMaY5gVIOPGgHn0XRDlITuY+2\n",
       "erTMaG/fvvXDGgCefFC1l6CnEw5EA/R0aq+XWEUNKfN226UEH8e9LNjvcES2zs0tNEN/IXOoYUwM\n",
       "Fr6QPQH3Cf5J0mppqxQvbjHPUhCzPJXGAkz94h9BtwhI4o9M6XBi0cg703SHqwSxg+QH20O8hlYs\n",
       "pCwDBYG96JHu3HwC4ERoNHzk51wTQjxZ8EcUAJICAU0LlhADu54wZZfUYh9YvBjBYUg1mtp4Nlgq\n",
       "XWG5XwabxITBlMCBoQ8GmYkhmbzUaFtDIslPHu2893+6RMugsLmgqIP93SZEjHbOMqTPo6eFW7bs\n",
       "cnp+5aNHZRLLVCCehglvFB3IcYnaqoOQjGAycJibkMwQ/R1t91qrioGq6vMdvnUW7jAvHlxveu0C\n",
       "7nm7uaHnpYkrZ2y//mca5oeU+kLgmK1Fp2blhNLFrVTVVGCiy6ZcZ5i+V8qHjVpha2GoUeaQzplY\n",
       "t+FckjVwI2ILkWK5tdFln9TYNXPaU/8Hv3aci0BiTDB+FG+A9g5S6bb5EPvL6Q0FIwYjg2l4tcq1\n",
       "kRoavHpJgLFUiJs93ASvUX3KQiXhKj0TiShVngyk+IfB5qcbiqeNLyRAhAvXT4LDTik0e7Cy56ni\n",
       "Zz6iJctGBv0k6QACuWvzP9kpspoiGgV4i1890je3p5pP2TkaukfxQQThdIgm4qRLFXUiwpNsWHHa\n",
       "5U0ATv/dq5WTI9e/RzbBF/D8UQfWfGfhO6JLnDYt9PnMPiVbpWWE8v9LuOi2CY8k7531WXAjGS9V\n",
       "9+V7P1BSZ2Ij+O4MFbBPRf6f9CFOP+KzHFBRytFLUcpFsIu+hAgfp8TI993gqZ53kfdyDwSLPNoG\n",
       "f/wZuRye7SNOFIG4k18wIJi9BZYZ/HNBzPEIAzJfA0rsO8YNBgI1UqzwDcPjVb8IhBJrDYGZhqNQ\n",
       "/SlF9scL7N6WdjqdFJ30fqtlATOEhO6kRQuouRmiS7p48h9aB/F1g5l4pvpscZk32HCFq+TwsAN7\n",
       "fmUh7l48/OXNoxTIaQEqzpxEStreUIJFYW7dFH+WF3CuwNz3h0yhLzBVR85nxIqXB0Eb14+RA1fk\n",
       "Y7aAFlrl9JHYSOvguI2lIupkNt2LuL/Pui1GpH5IfHbVr40CvL+LFoqT0j07oFc55x6luL8Q4bjC\n",
       "bIms++JTl/Dr/+lJ7XO9hTJwCz0me3tmR71D2zBd/a/O9PUrUYqm9rZ72BxnmCDa2EYZBxe7MmOM\n",
       "R/SBW1cdLtopIqN0fOr30/M+zXeMJlyagn1qnAsvAOMk21oBGhIvonQAAAbFAAACHkGaIWxD//6p\n",
       "lgAoJHy+ATYlmpOMeJYfPn/S66wwuxUaQDYNbOxVlEZutvpUt4S0qjTmaytQSvPNM955elLIgYQN\n",
       "TkFUbM7+88FUh5x2Ojhk+cv7g47WnPqAi6P0DA3I40VObmwrfVFLTxcyXapT/DknJgScCEIA0UND\n",
       "ayMrTYlVKNrJ3HGQcKCPIAmQHLDwzhwXewExHLdIvChn4BAWO2/y80Xppwz38BzyQ26CNnbvZcGl\n",
       "2HMUVfPAmvQMRF5bSZ40vdUMZX/8QyeNdzOK88Hrzc8qgvS1eiffvNKqZPuozepypHpcNg2jYtc4\n",
       "oedSZVXEKhwTU61ENmirRtrR8rYxj1MojquOCY5l7aij7MvdKLz2Flkbl4NzJHyLptMA2wuyGNzF\n",
       "LjtxpdrjSt+ll6d4i3z8AnxBFwcXMWdfu891WVihd/kdss3AALb45CWtmL743YQalU/nswYB+VBv\n",
       "KjP1G29wfgNhqb/KaUI1f27O0JawlnwOlDov8rqu/1ubThieEKBIsMCUZRiDLK6bixsl47CpQO/K\n",
       "ij2JltavQ8l4PcKxB0mupJqC8lIYpetP5YbphXuMvmzp1YsN53nS9hHBv5Bsb34trx7PHjE6Ypp/\n",
       "psAGPaniA4gG3YUFp/oAAAMAAIYCCAAAAwAknlgNjvCbXf0lAjyNzl2BEKLhh4y97b0aY/lJ4ckL\n",
       "/5Uekv7Z6nr2hF+bNxTgLexZK3nnAAADFkGaQjwhkymEO//+qZYAIgbTUBihMd657G7Lzw38IxZO\n",
       "J7PvOK5RmOev5ruF4lgSy38OeCtNT9ePfsCZBCi9uz5+4wDxHD+nRwqk/P0I8/McPr1i4/6usLMb\n",
       "Fh7+ZxO8fQU5KHBtxwIaI+6dDBuZHDLxXdnnNuiGFisPLS9ZRwrzrAXEx76Kevv1OsQ4WT5huPKl\n",
       "nEXh1Kw1ymEwx6wybR8UCabyemcoDVISMvYSli5aBK0DEm8IabkapEHTj9u26zLFYWlemFzG0u1J\n",
       "cm0LqAcxWIkZT6x3N9MO+F+J7k4TroLxXgaNnbOyGJqD4TpdhrD30ui2HOfGxA5ulTokkfsipGV3\n",
       "e5Br8Loa35QF1wcqPPke7VLhANILDm4TSgv77IGKw2GYwcuT7/jOGwQ+YW6PtoxWeX60gBc+jRy8\n",
       "OmToDJ0A95/WUMSL+1TyzsyAy0BsOoPWJC57Y/rKOc47A5zYEUTfi7uFml1NcyYugbB59KghXGb3\n",
       "nRoKTfNGmch7wQulsu2SmL3pVuXxBf+TAE+kpnLbZHZeNMq3aNDLfOCGSxEBuC3G0RKSQw5CtBTl\n",
       "A5qkRqX9vHAzhehMjWjYzadfuuUg+wxxbEHBva2NabygSpHtkzuLH0HFx+9kImmRPIVlMSPxjZus\n",
       "ljU574gEdMfjkYLYBaT0PEcqbtsLEosBv8cbapatoTU1kNuczwHSayeTBSXsxowEcRXs3DaYVtHM\n",
       "TH0c9I1PdCppA9YSUUcVjLgTNFhASmik47y+wbpItQZdf3q8MqTKOWTxgp8BFuVBpVXDo5d1/IyP\n",
       "KTrlpIeNP+QrPT0WpLMr8wP9n8eK44n2SFzXdnhdLOWI9I3u3dbxPHXw/HanYIyEtmZfHz098uKe\n",
       "BYXVQHtypi59d/ndj49xWZ1agmaO6SvlcNKclg4c2Y5hy/2Z+Ao+YYREw/CkUN8COBzVBUu2F96/\n",
       "c0On/BqrKuBggJZnVHMZGasavVQg0GKHYXZhRPWnzS2mXUrDSVb7aoiClYrDdK+0rIERwUdIenhO\n",
       "uIwABq2lxUywBRxHvObwb0EAAAP7QZpjSeEPJlMCG//+p4QAAJtyD4Lt/cAVqqzcmSsc2lU5tbG/\n",
       "CA4qXE4dfdFswpayl8FXgBDSJubUX4B1dYKZd/lYZD3vsVdOyy7urp6QC9ZVEfDYqLcgfV0JsAXE\n",
       "BuxKvEnxzBlkCoPtGNbMS60dFDIFIlP5jGyw9TQDwZwTLf4rFm/0R2jaYveo2Jk9b7NDNRiOZkly\n",
       "vdNnE1YqlMgVdcgh9Ikzq82nyCIFQgsgUOLvYF6wPa+oww8QAtdQ8umw/pFa1qZBH++5FBbSbTw7\n",
       "fgTwwzbuedyRBzakNZHAG2MK3jBj9EFRo7MrV/di03N1FzpVasD0zcnSKDlkoAr/5NcVio/8VGNK\n",
       "Ad86ecQrkx/YGV8u5WaGaj854LaZvWvPn/SrwPO1dlb+CnYFcgqcZcGRrOpOgjVJTkE3UVlwKQHk\n",
       "Ndsn/n7OrtsPlmToUS3HH6qXF+rZoNuuRcYCVAIS3cAKf/287/XWIyPsvp9i0OIGNGDaGfhFrvNj\n",
       "dHyYUBkeU4o3qhTtPEyopLM27VJEwHM2GtDW818CEO1hBYLGXYbYLHqpdTvhWtjNyMaSimxd52Hu\n",
       "zMfWc61R/H9WvxHuEUANUEurUk2zg6yI7p51kmQZCLrYyY/cjJUwtG6TBW8+UidCz69mbkULe7bk\n",
       "f4Aaz3OLgKNzrsmMk+HX+EpUgoRqy7gaC7Zi6L91MKGr41i+6pM2/h/3yL+cj+FnGqp6Irb8S7vb\n",
       "KW3DOnWxS4iAnkwkcSkil9GWR5rTBoY+zAhDX8OrDboXSFndiMZFvyF9bS+cbjJaqN80dtP9DzcJ\n",
       "YjE48y0S43sEFgjqQRlEaN4wn1CoFORckf0z3PCWunlTAzRlhHZFUgkDApI44JoDA70JkM61xtqx\n",
       "pr2MnqJLQGP4on/OdSr8qaJHINyLDM0tQ79hJPf5ACY1gc761u0VvuPsrEm0PSyK+IQ/Jmx4UvYG\n",
       "vTRTwfQ0ExX85/RWuuwq7Q8cZ+QjtnB34vSQwNrs376Mp7LlmFsr1q+0+L/gv01ULPGVJ8klOaE3\n",
       "ztY3L/B2y4nFTwhOjTlDVr6aJ5DxEgaewq9yA2TjX7nH4ykK5vJxA31NpoNwpC9s+TQQ//Il9mlh\n",
       "dmuPZZ51RkKP4mO77X+4T3B5fbgMSzC4Sj9nJs5BR3u1x4zi3EhtXq5a393pVUmK5KGyYm4jlBMQ\n",
       "NDsUlF7srUDiMYsXqHRDkICedY3v00xEf6pVZe+IAqHpnL7NK8Ba6r6g14kGEhINiZXoQJ7yFJGT\n",
       "39EhOmQ/5zuQBPomI3hvIYG31u0zwWnYizCQqtqCv52QiP+1wmkhmQAq9BPjLYi0eABWnDpBOFJn\n",
       "mIzf10DV7NqmWe4IBdwAAALlQZqESeEPJlMCH//+qZYAAMFs/+H0H1QAhT4kgP7Zfnlggijasl1x\n",
       "QTbiWRUdU2ACIcW2LLv0nLR/rS0ik4X0YnHz+pl9m7GBwC8eu2zduZ6NKXa/QZr6Z5KroN4rYGQO\n",
       "Y31HmQCWif5SjiGtCAd+rJiLFia2vYeLg2ve2ZiSG128NoD/wME6pJ+7SMp4Swz01qg5PQT64tt+\n",
       "wuSriyQqdhEanLGWXodvGVFai9oXzU88V/QEP03wMIvCYzvg3mjndt7jV+gT8N0+QpZylIz0oI9H\n",
       "9f6sG709DcnTVt7kzxXbK+XcxK94UQVzze+IoqEhR37hrfYmFmVMbPRvFOdGp0S5sypIyCvbdA5l\n",
       "Q6jbZxTOOy2MYjaMIQ61wXXluEjxqRK718B6/ek+hlS3V4RCoQgdvTt9avmGZXntJye56CDmQHIE\n",
       "dOvJkRWaGpMx8j3Iedm3L++LdJlFQb3mXc0sZ8CI4lWVnl3qI5OiNHh6ZHDHzkk0MSL+uJoSZBzI\n",
       "X8L3jh49GRQ1h5APNX/cgznPnzemrcNAjUcJUGCeaaUzqcDaLqIl7KmCwVr80KII0dMFNxxoMUVG\n",
       "A5d0KspInwm6FnvrPd3DnoZywOt2hRhQujeBWrMLKXcj1XKFb58wKqczF0GCtZxDVN9TQQq1+AKT\n",
       "cy4h3KFCf9ngrzh8v7crtXYGzocaAZk3uQSZ3665BKr/3y8XUrsuxF5EJ5FFTyPUkxZxuYzAdWU3\n",
       "Y/bmtfSuhpyG4L6Mauv6gxkbAhzO+KWQn9mZ4kRm3WmDKTfjq86zBmXHiDqPlDBdTXeM3lOyTjZw\n",
       "mu9duSa0oDKvX7008PgPk/NKUDtylFZkTQlfQkwp2JH/fQJBiEHgaKBF764L8g/ENTCWTb5HnWhx\n",
       "3QxRGZEJfdtGWjeO5rr6QCaV0rgKQznYxDd5nM3pE0eyS3ZU/NPGQZLQlgx6lD2puaQYtQJJqIBn\n",
       "HyvAjcY8/kPAAAADADb3hB3RAAABxkGapUnhDyZTAgh//qpVAABvtpfw+hCkADnLzkqBbao5rVrD\n",
       "Y6Z/Gh1VLyVu1c+NMLWNIaffGD913YXXmELMbanW+jB4KUrMF/en97BzlYLNK3bsyz5mpSA5ThAR\n",
       "q8AtKzp5e83xNDwWPDlRns/qn9+UQGKIryv4QVOp8RcqYUknSaW5lQyNVrTWDJ2BaklZxhYeGXop\n",
       "hJ3ONcH/5AkT0+nHjKngk2PCEND0ltsF7//mJ3UD5O1NG3btJioXLJ1lZpMhf+MRbEtgtlVcIcv1\n",
       "wMH6LFUw7eTuR9n1Pt6gUzQodUPwfg9fl3LNwBGGp+d8elwfBIdg4iEJnuwSSYD9hAMfXL/KYVLq\n",
       "hP1gflJAO9WnFW6cLNZCm148Mw1MpUHT6HZ2NfiAF2HFIQMXwVtwoN5jhhTETzGiQ86Wv7TgOrPg\n",
       "XREP60xwq2K8CP5euaAVA20HvEqS99eQ9PnRIjeHQWl++B1a2ZKR9ORC49ffaacn2CtxeR0g/VBu\n",
       "8KMYUZFf7Gyzme20QwEMwTjeIo6RPqqQh3jZ5iay8mKJvYyVDse7Kuaklf01k2RlU6jkV9sQGrTW\n",
       "GofpQ+IAK3fKcp09v3qdK1VQI+EAAAHvQZrGSeEPJlMCCH/+qlUAAPVtL+CdygAnb58DRY0iAKdF\n",
       "haUat3rTdvnI0CQcsXhaUi31jSvT5piTj7CaJLzqD9D4m+uYjdG4R4a60q8SEERR8pZCSyCijILk\n",
       "2Xs5MR5a8yp1NU9/T/xAyzRjEhDGvssQYMV4zJaHx0OXkj6jPst8bag37FQpXgqnpki8avyzlBOU\n",
       "ZkAlqn0rZGAtWTEUQOtal9Sbl7K0NIxLIMGIBB4aWcjMOH4rx3R7TGDXHh60DDr2zZiH4UuDGizU\n",
       "3HBLwOgAv8rUKQbzY14ELdPKsNFot4Smimcvk5cXWs5kQtdmK5H2sOzPN09dIbLmTjrSUV+CVoxc\n",
       "vFrY6qarZlzoNJwbwqtJApP7quPxO+rJJ6FXmpyvNGc+i2XEiaDlVfwQGiwQIrTc+7gssAXZLRvH\n",
       "0hZBPo/cuWUtANMJ14W7LpEqIkIQnoQj+FzMM/saxKt8Lg5nEpYwh2wIQSdtCad5qtIXicntzLEk\n",
       "h7G7XKzxlJcBAP0oUYvqAcy10mpbY6QxKnqfVj8uV1Dsu3UACzrUrZN3ScBijGub8BycB8n/VxuV\n",
       "tLUc6S0lE4tlN8CsQ/sirD2gv4De7KJ2ISapleW2HwDf5Lyd6EjQaXeg6IZYA4jGaDptpz0PjmxL\n",
       "msrmBIOBAAABx0Ga50nhDyZTAgj//rUqgAEQPPt+9f65WnytiL7Noa+OaVPsZI3zsUKbwAnO+iG7\n",
       "Klykj4tHmRK1FonI2u4y9sBplb8iqoD9ouxZsP9IggNqjjmEOSmY62FIJ5pONThArmr2lYQa72Dd\n",
       "jKmj4d+Q+PZi0wQgmzfmzeKrZ1sk0tPz+7ylI5OQNFqttUgoU5oz/xfySvexBNocCKzYDO/Jlx1H\n",
       "3JtnVXwqGxJjyRtlmnbI8ZI75i/fLa34E2MXXkfMs1wf0zTH3Rx3sW1o8a4hUKKJN5Pw/SAY0itk\n",
       "cLeH+uwSnrIKMxTZbImtoWKn+nJrqaWbSh0+M4+XF8xqC57JOifuFaqfQ5aMLUWOiYuWx7fz4fc9\n",
       "Aw18gGS71pW0y8jcgcFTyqvU8U03Kw3lSTF2fuSQnXwlRyPq9amHDus0QG5KQJxobzo+mrZlgT8o\n",
       "LHMvo12g8tytRrhMu27jg4+ltjBs+Ur6rCVeyjgdSXoykJAVnTdV+XYO2W+bjy513EwKo/GLCfMC\n",
       "bzVlKhFO5511YdSohI52oWYyA48oFMRLcdrOlLiDFsOQiNarnMkfMppG8e+yRlWGbP0RRnFUCt7M\n",
       "Du+TPBKRVDbhAAAE+UGbC0nhDyZTAgj//rUqgAJwq5CACXmyJ7b47hkk9oMxx+gwT+hxmDaKRu1Q\n",
       "z8teSU1dDqeR0gu03uCQW6f0gHj1uFJQ0HogVdCS6OXtU3PMy0heYB1R+jPLmgEyk/yFVlC2weTm\n",
       "iux+hfekazfbf0qPcRZdXSKmuXsb0B+D3ltyN8J2LyASfAT8zg2/yhRDu5ZKFMH1t8AXWrsqAC+e\n",
       "S5dUNDMAVcQSKOlS/RFFkaK4GGk0XwP/mDY3fnNdGRS9xz0/TY60RGzKF0PlECFpi0TdNP3qRQEi\n",
       "OSpMTk3KIdcT7NuDoGz1MU4Fd9O1no/JgpoBnyFrDqllswFz8yH4jQgMZoZtRGlJLdkm6Xl6/eYY\n",
       "F68Z4m51wKrqoZ2snsP8unY8kG5zj9+exdSqKh/FAuneQpsFWC/mF2xCdzxbF+zj2+q0r8v2O1O6\n",
       "H2kWmb+W/ATELt4KzYNAEAJouckjyYEZ2UHp7Nl6jKcpDIviWq5x1Ro2d997g4j+WfMwzl4VZ0/2\n",
       "i/6FqJqe+aH+ZcB01XXdil8khZdXEPudYimS7rxNShD8lC4NqBP1d8Ta65SD8+cKDa+PkGG4pRzg\n",
       "iINr8MNFudD5dzSFDXQ3R1ZBE4cmJqBYOCE3/7wUujcRGrSBiTC6hra8O+Lr2nATTqjCiooIF0nc\n",
       "zE1dRSVvUwoWCPETM6MQ+X2K7n64E0S5hhiDjTe/xhc48BMH3mdQ4SNSAlW9er8NmP+G0ymeThS9\n",
       "PZ9XoFpcuJa1mYrh4ml0bZlzEBVboI/wJQ3c0Oi0Rb76rrueoM1/lSfDwXbfMKkkhuO72ZXrh0jN\n",
       "LS/klj9YT24LnZtXc4PTJt4fNfetCGfxjdCVWdZe5Pfx47lVX6meoNRNlPS83RAhgnP/ZekOTZS/\n",
       "DOjbs3uqkipKld6ao8VWPEOlHU3IMX7MjFQPAxaVTakc1ak5d1bNMWBBk2mnduQDhUpXKOSNH9rW\n",
       "Kj5DankF6AO4X2+/bHK5Lh64zSJtxTjA94rSkvJqNMUvThw08039QqYhKDtbW5qHopcxe2Jdfkq5\n",
       "/w2BPlX8FxhFhgnenRN5Ev51edklKX5pUf9QVY2KnyMKHsMymCOjstU+36zSGUjKJT8E2SVkKHd8\n",
       "xIsiYkJLV48atW2B7qVrtzu19NFBBK9G1W7LiJjxULQ0fW8D2ztqf+N6KU/dnL01CnVsE+wJ+GYp\n",
       "jcPQryd2SqFcVFrAsh/Hvx6uAgsauMqKi9pXS1wYjUWyxB71qdoVjqIXRIzHSrcXjxILHvfNW3rN\n",
       "6ZKwbHcunOGv2vkNplIgV6N3l6s55aAhrcmLrVxRsaF2kBExeSvi3vGcBRRs8HsV7hOLeVMlqyrP\n",
       "dFIYFLRRFrv7lk1AYK+4/jNXj3AoEFUClOB9r+bdywL5gYHKqqPHDDRiGg3k28xw1Rg5uDqv+5ms\n",
       "43MngLhhbwWlplEd0+boF4riAt/+TjW2Tkcg0WxScbDZOcCnpWbzorgdatmFksXeHIfZEABaqFV6\n",
       "tQBC2I8il+Z6vUdMdRde7UYub33Rc8t3xvH/VMzWubO7OcAjuDhu8gNO6tAe6SO2rax6Q4vIgClp\n",
       "BdvsVJjmKjYAAUPWuCRyhlhx/LUSK+m9V9IQYt5Xf+KNViozH2pmXyzgbG7+MdHwmXDq9Xx8fecT\n",
       "WBuNqYFMrY1H4drG2kJjKhVdVboylNGb1idQAODFh/gAAAFrQZ8pRRE8O/8ACYR/XrWzI1Uux/3s\n",
       "5I37Z2M6/OfS2QAufiMjxFzEkIzDmoHPttcqBZWm3ecm/Pc5e7TosHKnB293yPi4pYp+Hdasoh9g\n",
       "n+I2PgGm4KQp61THry2XxaudLBGUARRJx+eDr3S6x3tAsGZY/3SUe5sXmVbYPhdE1PWSVOIEniU7\n",
       "Io+1qHJT8SmKTupmXXO4pkGtp+7tc0ZhFUeROT3a0e2tDF5YzCOlTGW9Tzvpp4NZW4UeAo+pjHzd\n",
       "sMj2nfo/8RI7yFj4NceycZ+webnA3d24uGkkFBijEWdOn3t4TZyMtzxfKTyiT/UGxwbNhAOleCdr\n",
       "/1OJy5Hu13vsUluktccBtRBjAmSq3Fj7TLgEwLogjlCDTGC2EVuX3cfbVKuzW0vslacpFj0M2XgX\n",
       "5Zz8XweGLWf8RjDgB/EAmnmEGA6p+APZOpUb71JnI8n+Uf3OxACzaHLcqLumt3C8UjzT3uEYYK2A\n",
       "AAAArgGfSHRDfwAH73MFgRjKFHlkVr4Zw3ZoVZPwBMAH5wqH8vhLqHs+if2PAIgEKin5sbQQqGDq\n",
       "bYeZkRRLLJrqefwCAEOJYZzPnwlswf5WBlWct/khzA8RnZ5ziCN3zyb7XsIrH36s5gpwph/Qzi5E\n",
       "lCdERMJth2e8y9U2nzZZjRd3ROs+aF2i73ds2wo3FjFxQhtqc4KtAI+XRoq+wUjJR2QJBi554aXD\n",
       "4KuKx4AGLQAAAQgBn0pqQ38ADYFzZcEPyAAnbTVTwKC13YZhoSMtXrmIdwhfjA3qZtHu+Qe7BMBy\n",
       "JQGWmYOBOPXzNQcub1fW+98HgXKyXY8TG6XS4BCuQ04D30srmE2wp51o/tr15t+YQbwRvovBF1Qw\n",
       "YxZxhistAeJkhC3Vs+lVPAWy8ru18eAqj8cfiq+7YmCHKDzPwIHWs2pmAINYWkdaVs9D6kRN7m1v\n",
       "8LPm0TOrFL/G0Vz9taq3B0vVteTFmZXtnAnTULnBez8NPaBxhX5pC1mRIpxpVunl6FFHXz1hrptr\n",
       "vxxJnVGn58tMg1rKFWJMQTg0J3Hc5mN/54GvqZbw/YlIutJu7DeSkus9vOAAGfAAAAQdQZtPSahB\n",
       "aJlMCCH//qpVAAVQ6e4rj0oAtXSsb0vCm09AeDKXFJI1PTz/JUrmXgMAoVqgrkiAMfkEEDH2jgMc\n",
       "e2ytInJPnY/fsBIjen6gCC38JhcFstHIIYn3TCKvkqD+7TWzcyFWFpG8yGwpt9d0+ifVsCn4ggDP\n",
       "QE1U8h9m0u9u13bYOoXrfaIxDKPxbS8pY8+w3h0R8N16Ann3XF2QGHj09fW73iNDtaivFDZL1Nub\n",
       "P0zUIFEVpN4jez6IFzbj52me1uUlrjlWibp4mEAchIl2VLZSnjePTXyFgflavGh0tUtAUKBOsaMs\n",
       "BPMtndAXkqgLaXyfwuTYYemsyOihkCJQ7yj4GHLIZRTIpaBvwlXqE6TR51mYbbEHm5QKF4Jwcr1Q\n",
       "t75M8HMX5/hz5Zuj6NnsUaJN5UwPi82Y+qcBapNqXsHo4kwKG5kiQ9edenbPGRo0w9BgrGbyrGsH\n",
       "9t7q4PW0heUEK7Nt7J9QU08gt1/dMP9LKaBXBJucc7X4mLcGDwxF8NfFibv7QfDpwyE2ybegnfVU\n",
       "QP67zsOlcFdKsz9c/NpxXm9cYBR4vmHDjiC7xpWGZvspsoZUgaYvpX+g3yEM+K285FW/oUgg+uWO\n",
       "tcCYQFmMKYMhgQCCTncRxHqETUyPQ81zARIdAjn4zPkAr8kZXyGePRQzPHow8gPlr/oshPwEJcSX\n",
       "AuIHkDhxkkmAVNSbH4SEaKOOGdmxqM+9KO2LWpCTwhfd65RRbuen+fBQ+Fi35SnZ6dbkEdUuX0zu\n",
       "KaButul55qXxzir1/C30lr/l2yazE/tlkGghHQiMGHjhCCAzNqkeWvSlO/ZIYWYMXoseEWr2Mad/\n",
       "8jFecYqpQSCZH81HiGgjFPmI5pkCooqCdlnrlFdw49Y3tuzlC8XMi3g0qgeWQ+lKkh8d9H/4wg4l\n",
       "fvBB5DqQz/XJ/xc31NLnWHt6dkMimuZatfpG7s65snw8muAdYpzLqHfZmHMMGc+hvfgOk+zzURt2\n",
       "AIcEsr4gIfQOSBVRi3csLgY0jETreKPsNfk/1CTu0GlNnGg56GsgGKqkYPTXxAgEZ7tQez6F11fn\n",
       "jWUKAofNC9Z7PKTtlOLtcPRdmj0EsyIaYH53H5b3cOwO0UhjOYv9/IgI2Vl/ss5T+HJuB3faDMLB\n",
       "GeAO6GgPkqKr3opKyo768btcRZO2bMV8bP1EvT3otNdCPKS52cUH4/r4JwRPuIRhUWSrXeTilMcs\n",
       "ZM3CcyVxrnhIw6oIe1ugZ+HCPIDTbk+NMS36j+biKlAR2Xd7XMnUAsVScSV6UC/bciH9ffSPJEYh\n",
       "OaWLHISF3jJ8KalFdiYX2hMJfVTTZDFiIg2Zu5Np6Iq07JE8f5MtqXLPQGnUKcAHDPUWMK3biGFp\n",
       "pEPMvti9Wb0nZerK7v9pu51Nj6kPAAACnEGfbUURLDv/AApSr2AHQAbVc7MlE1srPyE26viJS+RF\n",
       "KXyl/L4UzlNVxo7JTaDLhjz3d0VGZFM9lgNbBZYvuQ71+CQbdOj8zTlgVOGFRcA6xXzR1OqejJP9\n",
       "71PYH/BR1t27nEYzGdVQI7n8WHZfg6EroVJZh16J9fxixwgaGcJFvO0+ztMDMuCB4oE0dBprXgcK\n",
       "EALgKlntyPE+kjHHhWd5rh+WTqacB+jPC/zyxJSuxJJ2CQUrlYqU4gpfpKWmrYTeD1Vvwe0SN+Dj\n",
       "FLtyOxmoRwzj3qxNJTCZYU4Wfy3GzAZfKTRr45F+utMxcnwyHgsXkJHF9MaagwU5EfJzS3dzYs6f\n",
       "02NW/wJb4SLNnhxVaLW/YsRrI1cI+eHBEtucuB7AmpjLdCZLRO4ZtMgij372O4iP3fiBG//SZk1r\n",
       "se9CAfKSudMhSk7TQUZ3vXYLNjzSXcx3x77LEi5PI4rZdRgfpCIE8xObv1jnF6jir6NsiP0EHUFI\n",
       "qaRKFLPv3N4vwrcjmf8uox6+K1NvnllUDDHg5UabhXww9b8Bc9kjqRCd3JlxkxktQ24FWNFJHmuD\n",
       "XJc/PTV2js8KpVDIekrfzV1XfdS7ERPNLdTHKC5C9zx9MaossOxtEP8uFzpftzNLUnAFjmdh7xrM\n",
       "OjAV4DKkCEbTo6rylWMo8IZsNt1nHFzUOchGADeogu+AvXPONrnlDqH4soVu9LGc3LYveESvrVAj\n",
       "dfwSmQ0kEmIn+bNhgp+Clp1SnSlCG3Sw8q4krM+tVlNIk6IkUuPSgGZ0fPlt5uFQlH2fTlF2LHLY\n",
       "M53wmBaTuZ8cmqzcAPXfjezbZHxpKZ4KdON33XrbD1n2Nb6LUKLl8cPLcUQjBAWUTLQgMeBR4+KK\n",
       "APc1zprysD8hAAABuAGfjHRDfwAOWoLVQJylvcja8AGrPkvQqFjiN8ktCYJ9ws401H9UiYLcOuBp\n",
       "k2+7/W/1cm1l3oW3Q1T5zQRiLVkp5RbOZExtuKoLLNvqir/eZRVUpUoupMY6cvErfjgXukeuAFcc\n",
       "VUAS0ZNrPyPKaVhJOzj4st6IixHr5lBdBuIUk8rAT5OZiXZr2Ik5A2OvvGK9J4MGFuhoi8vcgX9p\n",
       "QifvBJxH1vGmCOt4fbVI4B79QZnDY4dfrbnkvRWWF9LnU3cevvQHZV6XxXQJmY1xZ5nDpL+5LvAr\n",
       "oqahnYlFG1o0KdAh3/LK6QJ2ZS341FPBZt8Z1TmS+nYtI9Q+0dlEaEQ37xzdh+bm/1VUJCktrhIN\n",
       "YKF/Vmnv4uA0gvpMZa/yAWb4PfYoUe7Ldq9+k3JvmTCqfo8sbzqT4B5vfvUD7cybJ25R5aS5mrn+\n",
       "dVR0NcnAUiTWLNCItIw7t7vpx+69uNNX12wxl6IL0TXsK2XZ0erbCYsFr/Gz70132fiHCl2MtcCe\n",
       "lJT5ie9ja2pxDsXuyKwJfnrN0lWyt4kY2wvQA+jNf0M3hXEHo+850ZJE9dXVABDIxoFeg+XhAAAB\n",
       "ZQGfjmpDfwAOe9gAtgQdPr7aABDhR0VDfata+wqBxuYmQ7FxkarIoY68IwoPPedstQhlfeEmUd7B\n",
       "04qv6ld6uMOpyIwK4uTWtRjyZYX/YSveBpdmz/ESI1pnpZpfZNYRokeJyQZ2FVTS6HuJYX5IqS5r\n",
       "uVcS+N9tZ2d+u7+NfyCb4/FPFWyDRXr4OtufvzsQo/ZlXe5Vp6YMME/etUPbm8GGamP5WRuDNgw9\n",
       "1WGX6Bt3yGW1OuL8Ib9D9MLvys7sU3Dx7mrTzJ7WEtrA7ZVO3XxFV6R7KHL/xIuLvQFjB/T/XGrx\n",
       "NDX+nJcJVeNYLIfAuhlHLDZr5B8/YXmhoBHw0P1Re6gIaYsv5BzSJs0dL3KG+lYLPjk9IhNaseB/\n",
       "RptYXiYco2OYYx8YVMURlI4HNmQexJabzi3zFN1r4/6EvXzAmEq3jpb55pGLn3chk+zMdmKVRVri\n",
       "nzH7rY4Prm7gTlk2Oh2htQAAAvtBm5BJqEFsmUwII//+tSqAAqkcKt3/MNxuWABco+K+StiB56ET\n",
       "3LDFT6i8kEl4TC7s+9wVztnDg8TdKNzejcUB+HMLKqa3KZshqzdxbydiSuv1LY52Vt6RvsB79j/C\n",
       "eSlvIn+VwScrg5qudpJLsUH1nnBgZFQMn2CuLd30LkZscb9d02e3BcOoWzmHW3A0ZORaDZfwUxdv\n",
       "cnoU+3TA30QVwgBCFtrB0X7qJQ7Sf8njdfjp50JSi9g0aSyR01ezW9pwF415LQjnaB8IxZNoEWfh\n",
       "FkZuIsK4mvzflSuWh1ltolLKAXnyc4zk0MS198lrs+tDTbJbE/Z/rZm3RFmbIZv/EGTLz5OXi9UG\n",
       "LyGCBLEnApYhzzPCDYH/OoR1owGKg/oIm0akEscT3p5t43J9bA+05dq5BKha8bxtxwimtEXT5WTH\n",
       "sqsbi87NpQ4X5a1dtVm/qh5YguHgnKc6hXYkLQvbDtMMLeGuQI8H+UgNPv4i/NQQHAvlIeuNc7pq\n",
       "nV3jq+W4GN8775eu4IwMU6HIf310KeT37g/Ia4eUwuKH6nAqKHtYBSEqk+/bzgvlXG/bjKLA1lwH\n",
       "+cNTHvFfHN8G6QllWQnIb8JYU41Aix4apz5F6YFDL9rWCtwUOETxOf2ZQR8Xwytt113Xle5Yilcv\n",
       "cqiVMFHRmqK6qXsMAlaZsD/ycr+BnhCLaHduThl9LVGzuaCOxLusQNsVzBfEkNV/+MOCvxSeoJ4v\n",
       "l1Rmp1fvMRWx0Pe87OpCl4DyIzxFsaTNs3Op2Wv/E9dOvPzDVic/k03XC7rU0aDozN/TKW1VXMtp\n",
       "yeZiba9pvegQWEalwuXh70w0pJloYSHhEWlTsDOX63tf0UVk5w+h0smOeOVZvHZlBtf+OKIzQg1s\n",
       "gprpCWUurw7jjBT06UnQuwzQCaVT7KEA9t+iRPcXCtTTnByhhyOQl/MaWT5JW3Fxx8seQzHJUANE\n",
       "+4oyDRxnS7U3AcKMgT54uO3cIn0Ff9bT1UMzD0WrVWaio4/LGzEVtfhQAAAEHkGbtEnhClJlMCCH\n",
       "//6qVQAFb8fAAHSuE4cYbewhFNClevMAKR3s7BnmsQXDxkEPZ3kVtEKJBTNfjIaSVV+efAuN3FUg\n",
       "x1h2kYP2LGhzn9SL7gutuwJR/P3WeULbKEsGxqpuwj1efoUa3lTMjI7JXZ3BGKDjLnmj8AZrH9YY\n",
       "OcVfy/ljREgGY7tLTX7CdlWgjO3XMlKT+y3PSPxQRIIkAnN6NZDieCO75Z8tO/9BSjU77v1fks/p\n",
       "55AzL7ESo9cCkdILWjpqwAuAhiUFfb9XE972TaxgHWGN3MIncrcqIcgvbU4UV5sdt3x9TA+5rdgK\n",
       "V+f7/MdBY1bPAL6GbAF7zpkgricR33vR7ADunvtqRuN9N+/jaEWKOXhi61bMpEYmyIGneeyH/iAm\n",
       "9w8b2l+69hTzRp9/EZNiLrzI1Nsf8ERb7oCz7n6tr4pk68bMV3OdWyMzAoAwSfs5iQoWuaaUVRAu\n",
       "1HGcQI6SJopRQuRDJ95PzxyTBL0R/CSygcevg3PkksqSWzSbpwG8+JYdVYrTrZVOpCL8jHQ2xir/\n",
       "0LSXuhJRXag4oplAAZagUWVhetokYrBZ+TKwzzwWRuB0Fc0oK3/n2R4H5YYU1PAMntm+EWG2KCo+\n",
       "u0u/UsrLliAHgpY/3nmQB5NORPrrR2qCs465T2tPFmLOEBpqjFTj9ZLs9QvnacrsKd5cBvqIQtdW\n",
       "W7LcIFz8XApLac8IaoApcoQbnuR9ZxImFy7/1RpbznroVBdK/ryUncKOJ0b/LEs4OTobLHU/ZqkG\n",
       "QldRaaedcoAZXctiupL+86t/BAg5gJ6IJjcXoOGNlUUwCSlsl1o8cY4ANedlXlaYkr0qVmaVKvR4\n",
       "Syv9XkBcJ3MduOys1XRa0ED6pGFGqj9d8vyPWg1hTd0TB2fXyPAbb0fe6GWXLheICdsixiEBic/y\n",
       "YSWe59RSLE8kU23M4bi+PgNcoBNWklPumHkMT0VAEiXfuHP6MIOyQ3EHyWlCEx5aXPVfISn78FWF\n",
       "8jGKUehae+N1HPXaIOLHhGPn5yU93/tQ89zQ65LcnQ7xhxvkUaTtU/EI3tczBhpXhtz/WNLnMv8+\n",
       "hlqTMGxMqbvzTVYDdxadMsVHQtlE3xciWQ6GePQc580kIJveG7XyOCxBw9TTTftZBJv27nLcM7cm\n",
       "nEYf8O60GOXJPtQ3XvKke3IFJaH8q2QBWt24ly/AGSlW4bhjx1kFAEvYm2v2DmoJj4Wwp2AfP7j/\n",
       "kxYrmlsyDiGGjw13xZHDHppXPNAL3PZrhrx5CxqO49Gzx1nCb6hqYrjxYkTUAXn/JyfAMHrzCYOq\n",
       "F1+rYJ8BSCvnQ0036u5sFXYud56CENyPXig6c9yzM8M6syoyciXZeXsqJXJwX7/vBdKP61kcTHWB\n",
       "//FThRps4X01v6e2Dq7DMTgAAAE3QZ/SRTRMO/8ACp+agAnYCFR0mbbqLbtC4FWsqDK4lrcUrAn6\n",
       "C/FRtbvta59wKcg0IgLDg/RBSPf0gsFUSXJ+2llIsM6A9gyx1lLhQkfxLCgSd0KudR6jNHvet9EF\n",
       "fSzpEE60jLYZUWHbo/gaf2EsWtuDX9vwy2JpOd/bRgWct675QHwvnBbo/8G5PbG5G6RyKp2WG26x\n",
       "0NWI+46EaJA9YXx9YAhxGCRHodo5tOp8K05m4qrE00lB3eDRhFYVivn1qOVsVFPLTfvrdf13+xac\n",
       "FONY55OQd10+2Fel4RRcM+Yufa3Cr7gGcXGTfpybzrKwfIH5HVnMDf6coOAvKrFm2+lBLU12j+ql\n",
       "kyXumRsbOfwUYRfTj0vWI4Gdy2JSqSm2fvJ7Kp/ekP9dvSjt0UBhHGwtRgIADpkAAAECAZ/xdEN/\n",
       "AA7WnA832PXyZ6WAAhxEzeTLlFqla6zXPmbastlZq+mseCDHm6sSxc9BqR9NXzz/S8lT04dHTpJ1\n",
       "ffTqDepRI/XSj12x/rxV79ljUFhRf46DZnYIGR5MuuhPAbqA4nYrdWKkFv4KjPjvpuOagcmhZvS3\n",
       "jaEAx6rsles/CfX5EDEhTQdUxxoul+JlcNwSZ6agJuyo2JT7jXQcDmGxbdZqdMaA0YPN6Urzpp61\n",
       "5IA/PmHI2Fi+0cGEp5Yk7zO3MEWqlMYfdBMMKS2x/asb55PUGwk8Laa5fVJVQarAqr8CLmQ1q6H3\n",
       "h/Wk0mPnwtkd73H3EGlUNt6yG1wYAEPAAAAApQGf82pDfwAO12l4mJpMyGYN+phABDF2KowGLw1/\n",
       "cIdUZW/ZDy+QmcQqUq98mddiaLJVmO4pR7SXR8UP6bFmuM+1va11MDfl4amtlRjgXpiQuiw6q6cU\n",
       "2h4M9LIsAl4nzVz1kwlClCxglRhMsxl0WOkQpYE1L5rHgX0PyjMTIgy4yyBydtLhncMaoYT6Tkba\n",
       "QQshL2SpXWFwAh+6yONH9iaeHsAB4QAAAfxBm/VJqEFomUwII//+tSqAAqeTRPGIAcbd9crejs7M\n",
       "j+NRdm7Gk0rcR31spW0qiYJ7FrvJV+CX6ulTe3fGfmi5P/4Uk3V0V9VjTBss7GcW/Y0JMRcXn5ag\n",
       "P6JRHQFBikEv1kqBm489vxSqyiuwdUlb4lpAwj+LY1q0f/6jqaK3QnCS1LTuMWAWMyOs+95Tx9kL\n",
       "bR6sDZWgtiCVeZUzrqvgf0uJtD4qsx9+WJ3R2zSSmgcJmfmr2KIT1MCZLIeZ/XUK74UREltg4hdS\n",
       "sb3F1TtUJu2duVGyM7kww+NAAYdP4GHI4f+MCXOMBbte0/28oc+WaFbrEDYySu5X+a0tTQH3NLog\n",
       "BkAFNLkfRsjxWKzpsEB5z2HeJJAELKRniSIdj7xzCJvBuMg1fRmCMB/3PocRaV38sIRiLD3xY4xI\n",
       "AfPjBbz+MEOARnq1Y1ZfItGKkjbpbYTgXNTUjYYkZiCZGDO4qulsFf8IRQUkJov1JesP27WdOfCp\n",
       "rwh+OJ5ftJHXDaqbr2tCEV1PK7GKLXmM3ugPtXxTYDa9jFVtBmyD6bd/WmCLCGO02mJMhuSgfmh8\n",
       "ipyyHcL7psA2puxaU6QPx2oHlC6AeoF6p5pSCQl3RbZRHp3oRTMPV3luTS9y0V0qCI72x65CT+Yw\n",
       "tuSLeiLSiEm8STMbnQHmotF60MZhAAAChEGaGUnhClJlMCCP//61KoAFczmZWAHG+hasWyXpuJeM\n",
       "orXJGPyxzNXmtQBLHoH2xijVTzPrMAApLMOi7aocwYZh0eWKSohXpFjW6ZbBV+XvSRB+j39yFjUq\n",
       "ABz8Ck5P/etwcMHc4+vuN5nIwTtaXhvUGvqno/K87KZo6sbJCylQoVIdk9MqqK6E6QefBPzsEQpZ\n",
       "JUpbyyaZQMMvkP2HVGVElbX9qhpzr1KaeoQEoCW/rZcDFvT+HP0JSX34caCw1OVJPbZ70S9hwOv3\n",
       "whFixoNLeO7XJPvzTc6hDC8UC2A3TdydFRnW26RgrSswnYQ5cPeNTjg2RCpia874/HbG+YCFrN+w\n",
       "hB1Dgv5nVTf5NgrkEOn1Lih+cd5ZJ4BAvNtvALIvEHJHltZJx1q8Hn4nICpFG9XNdFk3NkjVTJcL\n",
       "bkM/+iCINjjbSXRUP91xBy+Hn52mRD0qTJ5MRZU34HqEY2F5iAN4Uzk5kPFivpWmiBHrUPiqu4pO\n",
       "2xpDOOZfEK8fWq30v9/B5b6Q32nsEqz3fClpNRg1Jtu04XJgcR0/dAKcrPuhnisA4wDZYiMufj4u\n",
       "bm0akkJ5+XDoAhqiR/nIcr6T9qAPlR/IE7I6V4ZmKg+wGdiyLAFhGtjTvt03JB7rjGuZRhzDsrp3\n",
       "4r8U1RsbxYMUtOL5aV7DkW/kwwy4FbV6Ex+ZfE3qFVdLrJfXROfARoUbjNwzH6/7WRGGomjZAhYN\n",
       "Kz6nnUNSGS/sso53YfOiIheXHDQKAPkeWFcEE88Zez9mNL/Fwve40dJTG48DhMMOPgIBXK8muXYh\n",
       "F5WlrckRa44ZPmlLguPkmi7+bIH5fBOdBgFdWoFWHIPeyu1q0V2TotSAAAAArUGeN0U0TDv/AAty\n",
       "sL0IEYu7oEGUFaAD84viZK+ZrhBJANaomukBvO4J6NAD5IkgsSS3ZmVF1wCIXi5emj7VgUvr7LvO\n",
       "Z/+4VCe7tUb15FxL4ENd9tuW8BdhFsZwtIfKTvNzVGpTY02fhNf3tcWRhNGem2tcGg7NpggoE1/8\n",
       "DChiTUlV4bs9zzwEB041Kszvo63eLHrSlPZps3nEessAlUcIErObKCgGZwAMYCXhAAAAWgGeVnRD\n",
       "fwAdl/vzH5VTFIJXoLjd6f8QAEEd16Z6tmcyU3Fh/LCh90Fb4WrR3amC0+l7PC92dYKY5hnJ04Ni\n",
       "P7jM4x3Zxzac67nh+4HIM/s8PiCisnWSEAAB4QAAAC0BnlhqQ38AD+FGJbhoyzvfSNs1mTgoqzNJ\n",
       "vAPrGXefFBQV4zMotaxTZ+AAx4AAAAE/QZpdSahBaJlMCCP//rUqgAVzMLhlwA43yc6M/CKsaYOX\n",
       "QvLMGHjITvoAYg/0KCyflx428a33L2i+qcikV+EHZqa1SZK0OdMXs3vFnwc7NUWsRSVwx7e6x5Pa\n",
       "vLCzJem6VAYCcb5NUWPeTzV/eyLZfc5XLhH13o7f8gjtpWCEUFPTdOkemGsiu7J6gcCldlMHVh+o\n",
       "rnlNxqARWsCMWT2CieXHXiMAPvxS9vdeIY4JTI1yAaVHCrpIjAouYQXxtjekBD6IpuD8YryoKAmr\n",
       "ev/YQFIsa4rd5GZpt15p8arEhp/DpprSly8d5WuZBDToTWYBy66qrsT2WVm+ZYL3I3EPsxiZtqBa\n",
       "o7+DzWWEebwRpCUbGjYdy/NpVaf4BmnI5RlkDwln7vWoBNnQzCRykOBWdzjPJGmmGr5Zxp/NgAAu\n",
       "4QAAAFBBnntFESw7/wALc4ZV0Xs2xwOrQAdo23eogyn5XA/XVnKTcMFTnZjWNXr3vQpKe13cfA/8\n",
       "7AgcATQz7mnA7JzcKESCACANBJC5cgWB1AAH3AAAACUBnpp0Q38ADcNe/ZcTLb5Zv4/MtAhZeCu7\n",
       "9OiYjUSAAK/qAASdAAAAJgGenGpDfwAHsVU2kp2xw9TJtCg3VEze2f6xApyFgcPP6Q1MAAVtAAAA\n",
       "tUGagUmoQWyZTAgh//6qVQAK4sJ6xJqT2kwA2EpGkpMMKt95sHZKEq7fvvaNnJxtWINA6qbmTiEa\n",
       "G/GcW60aK3mTB1BLBLpT2WR/pAxyZvB7BzohUEsKJ5AfkPtvS+nNdpZO7AzpnfXOFmO2axXpY/bz\n",
       "GedA4hcoFRzwWU2919/Tmzn2RnNaeSq6mxG07IOvnThQdfsxjpagrsyAZREN7F8j1s0aCzz6T15K\n",
       "wwvuw0gNRAAA9YAAAAAoQZ6/RRUsO/8ACcOUV7VMZQv2J3F8PCou3N25RBGH8D4ntAZlEAAVcAAA\n",
       "ABsBnt50Q38ADn6ea2X879n2JEZNORwjsagAIGEAAAAbAZ7AakN/AAfEorDzZ8Ma0XwiOT0i5rYg\n",
       "ACHgAAAANEGaxUmoQWyZTAh///6plgAqZ5O5LWVN/k98gcFeUmpKZT8ACauNnMmIVwZY7InFxRMA\n",
       "FBEAAAAlQZ7jRRUsO/8ABZXDHAMGVedgET0LtPknUNVeDyENZvNedQAErAAAABoBnwJ0Q38AB8NP\n",
       "sDpovezjH7Kc9IunBwAA/wAAAB4BnwRqQ38AB8SjFWbWlX8+8YLqeRxnp972j7AAUEEAAAAcQZsH\n",
       "SahBbJlMFEw3//6nhAAo554hxXdmIAAFNQAAACYBnyZqQ38AB8VK64Da2Lru8LNXN4TXvR4zYTfh\n",
       "9D4OUktQAAA44QAABNdtb292AAAAbG12aGQAAAAAAAAAAAAAAAAAAAPoAAAPoAABAAABAAAAAAAA\n",
       "AAAAAAAAAQAAAAAAAAAAAAAAAAAAAAEAAAAAAAAAAAAAAAAAAEAAAAAAAAAAAAAAAAAAAAAAAAAA\n",
       "AAAAAAAAAAAAAAACAAAEAXRyYWsAAABcdGtoZAAAAAMAAAAAAAAAAAAAAAEAAAAAAAAPoAAAAAAA\n",
       "AAAAAAAAAAAAAAAAAQAAAAAAAAAAAAAAAAAAAAEAAAAAAAAAAAAAAAAAAEAAAAAB9AAAAZAAAAAA\n",
       "ACRlZHRzAAAAHGVsc3QAAAAAAAAAAQAAD6AAAAgAAAEAAAAAA3ltZGlhAAAAIG1kaGQAAAAAAAAA\n",
       "AAAAAAAAACgAAACgAFXEAAAAAAAtaGRscgAAAAAAAAAAdmlkZQAAAAAAAAAAAAAAAFZpZGVvSGFu\n",
       "ZGxlcgAAAAMkbWluZgAAABR2bWhkAAAAAQAAAAAAAAAAAAAAJGRpbmYAAAAcZHJlZgAAAAAAAAAB\n",
       "AAAADHVybCAAAAABAAAC5HN0YmwAAAC0c3RzZAAAAAAAAAABAAAApGF2YzEAAAAAAAAAAQAAAAAA\n",
       "AAAAAAAAAAAAAAAB9AGQAEgAAABIAAAAAAAAAAEAAAAAAAAAAAAAAAAAAAAAAAAAAAAAAAAAAAAA\n",
       "AAAAAAAY//8AAAAyYXZjQwFkABb/4QAZZ2QAFqzZQIAz5+EAAAMAAQAAAwAUDxYtlgEABmjr48si\n",
       "wAAAABx1dWlka2hA8l8kT8W6OaUbzwMj8wAAAAAAAAAYc3R0cwAAAAAAAAABAAAAKAAABAAAAAAU\n",
       "c3RzcwAAAAAAAAABAAAAAQAAARhjdHRzAAAAAAAAACEAAAAIAAAIAAAAAAEAABQAAAAAAQAACAAA\n",
       "AAABAAAAAAAAAAEAAAQAAAAAAQAAFAAAAAABAAAIAAAAAAEAAAAAAAAAAQAABAAAAAABAAAIAAAA\n",
       "AAEAABQAAAAAAQAACAAAAAABAAAAAAAAAAEAAAQAAAAAAQAACAAAAAABAAAUAAAAAAEAAAgAAAAA\n",
       "AQAAAAAAAAABAAAEAAAAAAEAABQAAAAAAQAACAAAAAABAAAAAAAAAAEAAAQAAAAAAQAAFAAAAAAB\n",
       "AAAIAAAAAAEAAAAAAAAAAQAABAAAAAABAAAUAAAAAAEAAAgAAAAAAQAAAAAAAAABAAAEAAAAAAEA\n",
       "AAwAAAAAAQAABAAAAAAcc3RzYwAAAAAAAAABAAAAAQAAACgAAAABAAAAtHN0c3oAAAAAAAAAAAAA\n",
       "ACgAABREAAACIgAAAxoAAAP/AAAC6QAAAcoAAAHzAAABywAABP0AAAFvAAAAsgAAAQwAAAQhAAAC\n",
       "oAAAAbwAAAFpAAAC/wAABCIAAAE7AAABBgAAAKkAAAIAAAACiAAAALEAAABeAAAAMQAAAUMAAABU\n",
       "AAAAKQAAACoAAAC5AAAALAAAAB8AAAAfAAAAOAAAACkAAAAeAAAAIgAAACAAAAAqAAAAFHN0Y28A\n",
       "AAAAAAAAAQAAACwAAABidWR0YQAAAFptZXRhAAAAAAAAACFoZGxyAAAAAAAAAABtZGlyYXBwbAAA\n",
       "AAAAAAAAAAAAAC1pbHN0AAAAJal0b28AAAAdZGF0YQAAAAEAAAAATGF2ZjU2LjQwLjEwMQ==\n",
       "\">\n",
       "  Your browser does not support the video tag.\n",
       "</video>"
      ],
      "text/plain": [
       "<matplotlib.animation.FuncAnimation at 0x7ff89ae3edd8>"
      ]
     },
     "execution_count": 15,
     "metadata": {},
     "output_type": "execute_result"
    }
   ],
   "source": [
    "fig = plt.figure(dpi=100, figsize=(5, 4))\n",
    "plt.scatter(x,y)\n",
    "line, = plt.plot(x,lin(a_guess,b_guess,x))\n",
    "plt.close()\n",
    "\n",
    "def animate(i):\n",
    "    line.set_ydata(lin(a_guess,b_guess,x))\n",
    "    for i in range(10): upd()\n",
    "    return line,\n",
    "\n",
    "ani = animation.FuncAnimation(fig, animate, np.arange(0, 40), interval=100)\n",
    "ani"
   ]
  },
  {
   "cell_type": "code",
   "execution_count": null,
   "metadata": {
    "collapsed": true
   },
   "outputs": [],
   "source": []
  }
 ],
 "metadata": {
  "kernelspec": {
   "display_name": "Python [conda root]",
   "language": "python",
   "name": "conda-root-py"
  },
  "language_info": {
   "codemirror_mode": {
    "name": "ipython",
    "version": 3
   },
   "file_extension": ".py",
   "mimetype": "text/x-python",
   "name": "python",
   "nbconvert_exporter": "python",
   "pygments_lexer": "ipython3",
   "version": "3.6.1"
  },
  "nav_menu": {},
  "toc": {
   "navigate_menu": true,
   "number_sections": true,
   "sideBar": true,
   "threshold": 6,
   "toc_cell": true,
   "toc_section_display": "block",
   "toc_window_display": false
  },
  "widgets": {
   "state": {},
   "version": "1.1.2"
  }
 },
 "nbformat": 4,
 "nbformat_minor": 1
}
