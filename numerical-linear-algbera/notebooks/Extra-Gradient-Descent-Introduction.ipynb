{
 "cells": [
  {
   "cell_type": "markdown",
   "metadata": {
    "toc": "true"
   },
   "source": [
    "# Gradient Descent Intro\n",
    " <p>"
   ]
  },
  {
   "cell_type": "code",
   "execution_count": 1,
   "metadata": {
    "collapsed": true
   },
   "outputs": [],
   "source": [
    "%matplotlib inline\n",
    "import math,sys,os,numpy as np\n",
    "from numpy.random import random\n",
    "from matplotlib import pyplot as plt, rcParams, animation, rc\n",
    "from __future__ import print_function, division\n",
    "from ipywidgets import interact, interactive, fixed\n",
    "from ipywidgets.widgets import *\n",
    "rc('animation', html='html5')\n",
    "rcParams['figure.figsize'] = 3, 3\n",
    "%precision 4\n",
    "np.set_printoptions(precision=4, linewidth=100)"
   ]
  },
  {
   "cell_type": "code",
   "execution_count": 2,
   "metadata": {
    "collapsed": true
   },
   "outputs": [],
   "source": [
    "def lin(a, b, x):\n",
    "    return a*x+b"
   ]
  },
  {
   "cell_type": "code",
   "execution_count": 3,
   "metadata": {
    "collapsed": true
   },
   "outputs": [],
   "source": [
    "a = 3.\n",
    "b = 8."
   ]
  },
  {
   "cell_type": "code",
   "execution_count": 4,
   "metadata": {
    "collapsed": true
   },
   "outputs": [],
   "source": [
    "n = 30\n",
    "x = random(n)\n",
    "y = lin(a,b,x)"
   ]
  },
  {
   "cell_type": "code",
   "execution_count": 5,
   "metadata": {},
   "outputs": [
    {
     "data": {
      "text/plain": [
       "array([0.2893, 0.6716, 0.9191, 0.9739, 0.148 , 0.2224, 0.5026, 0.456 , 0.6496, 0.6634, 0.2687,\n",
       "       0.9417, 0.4239, 0.3914, 0.4928, 0.2875, 0.1722, 0.3066, 0.5727, 0.2279, 0.8557, 0.9424,\n",
       "       0.1746, 0.1867, 0.4497, 0.2579, 0.0479, 0.6487, 0.73  , 0.4276])"
      ]
     },
     "execution_count": 5,
     "metadata": {},
     "output_type": "execute_result"
    }
   ],
   "source": [
    "x"
   ]
  },
  {
   "cell_type": "code",
   "execution_count": 6,
   "metadata": {},
   "outputs": [
    {
     "data": {
      "text/plain": [
       "array([ 8.868 , 10.0147, 10.7574, 10.9217,  8.444 ,  8.6671,  9.5078,  9.3679,  9.9487,  9.9903,\n",
       "        8.806 , 10.8251,  9.2716,  9.1743,  9.4783,  8.8624,  8.5167,  8.9199,  9.7181,  8.6837,\n",
       "       10.567 , 10.8272,  8.5237,  8.56  ,  9.349 ,  8.7737,  8.1437,  9.9461, 10.19  ,  9.2827])"
      ]
     },
     "execution_count": 6,
     "metadata": {},
     "output_type": "execute_result"
    }
   ],
   "source": [
    "y"
   ]
  },
  {
   "cell_type": "code",
   "execution_count": 7,
   "metadata": {},
   "outputs": [
    {
     "data": {
      "text/plain": [
       "<matplotlib.collections.PathCollection at 0x10b91f2e8>"
      ]
     },
     "execution_count": 7,
     "metadata": {},
     "output_type": "execute_result"
    },
    {
     "data": {
      "image/png": "[encoded data removed]",
      "text/plain": [
       "<Figure size 216x216 with 1 Axes>"
      ]
     },
     "metadata": {},
     "output_type": "display_data"
    }
   ],
   "source": [
    "plt.scatter(x,y)"
   ]
  },
  {
   "cell_type": "code",
   "execution_count": 10,
   "metadata": {
    "collapsed": true
   },
   "outputs": [],
   "source": [
    "def sse(y, y_pred):\n",
    "    return ((y-y_pred)**2).sum()\n",
    "\n",
    "def loss(y, a, b, x):\n",
    "    return sse(y, lin(a,b,x))\n",
    "\n",
    "def avg_loss(y, a, b, x):\n",
    "    return np.sqrt(loss(y, a, b, x) / n)"
   ]
  },
  {
   "cell_type": "code",
   "execution_count": 11,
   "metadata": {},
   "outputs": [
    {
     "data": {
      "text/plain": [
       "8.9701"
      ]
     },
     "execution_count": 11,
     "metadata": {},
     "output_type": "execute_result"
    }
   ],
   "source": [
    "a_guess = -1.\n",
    "b_guess = 1.\n",
    "avg_loss(y, a_guess, b_guess, x)"
   ]
  },
  {
   "cell_type": "code",
   "execution_count": 12,
   "metadata": {
    "collapsed": true
   },
   "outputs": [],
   "source": [
    "lr = 0.01\n",
    "# d[(y-(a*x+b))**2,b] = 2 (b + a x - y)      = 2 (y_pred - y)\n",
    "# d[(y-(a*x+b))**2,a] = 2 x (b + a x - y)    = x * dy/db"
   ]
  },
  {
   "cell_type": "code",
   "execution_count": 15,
   "metadata": {
    "collapsed": true
   },
   "outputs": [],
   "source": [
    "def upd():\n",
    "    global a_guess, b_guess\n",
    "    \n",
    "    # make a prediction using the current weights\n",
    "    y_pred = lin(a_guess, b_guess, x)\n",
    "    \n",
    "    # calculate the derivate of the loss\n",
    "    dydb = 2 * (y_pred - y)\n",
    "    dyda = x * dydb\n",
    "    \n",
    "    # update our weights by moving in direction of steepest descent\n",
    "    a_guess -= lr * dyda.mean()\n",
    "    b_guess -= lr * dydb.mean()"
   ]
  },
  {
   "cell_type": "code",
   "execution_count": null,
   "metadata": {},
   "outputs": [],
   "source": [
    "fig = plt.figure(dpi=100, figsize=(5, 4))\n",
    "plt.scatter(x,y)\n",
    "line, = plt.plot(x,lin(a_guess,b_guess,x))\n",
    "plt.close()\n",
    "\n",
    "def animate(i):\n",
    "    line.set_ydata(lin(a_guess,b_guess,x))\n",
    "    for i in range(10): upd()\n",
    "    return line,\n",
    "\n",
    "ani = animation.FuncAnimation(fig, animate, np.arange(0, 40), interval=100)\n",
    "ani"
   ]
  }
 ],
 "metadata": {
  "kernelspec": {
   "display_name": "Python 3",
   "language": "python",
   "name": "python3"
  },
  "language_info": {
   "codemirror_mode": {
    "name": "ipython",
    "version": 3
   },
   "file_extension": ".py",
   "mimetype": "text/x-python",
   "name": "python",
   "nbconvert_exporter": "python",
   "pygments_lexer": "ipython3",
   "version": "3.6.3"
  },
  "nav_menu": {},
  "toc": {
   "navigate_menu": true,
   "number_sections": true,
   "sideBar": true,
   "threshold": 6,
   "toc_cell": true,
   "toc_section_display": "block",
   "toc_window_display": false
  },
  "widgets": {
   "state": {},
   "version": "1.1.2"
  }
 },
 "nbformat": 4,
 "nbformat_minor": 2
}
